{
 "cells": [
  {
   "cell_type": "code",
   "execution_count": null,
   "id": "cc76fcef-2534-4b40-87d0-17870dc34527",
   "metadata": {},
   "outputs": [],
   "source": [
    "import MetaTrader5 as mt5\n",
    "import pandas as pd\n",
    "import pandas_ta as ta\n",
    "import joblib\n",
    "import numpy as np\n",
    "from sklearn.preprocessing import MinMaxScaler\n",
    "\n",
    "# Inicializar MetaTrader 5\n",
    "if not mt5.initialize():\n",
    "    print(\"Failed to initialize MT5, error code =\", mt5.last_error())\n",
    "    quit()\n",
    "\n",
    "# Definir o símbolo e o intervalo de tempo (ex: 1 minuto)\n",
    "symbol = \"WDOX24\"\n",
    "timeframe = mt5.TIMEFRAME_M1  # 1 minuto\n",
    "num_bars = 500  # Número de candles para carregar"
   ]
  },
  {
   "cell_type": "code",
   "execution_count": null,
   "id": "05eb23d9-b933-433a-9b3a-0d56989f4a46",
   "metadata": {},
   "outputs": [],
   "source": [
    "# Função para enviar ordens de compra\n",
    "def buy_order():\n",
    "    lot = 1.0  # Tamanho do lote\n",
    "    price = mt5.symbol_info_tick(symbol).ask  # Preço de compra\n",
    "    request = {\n",
    "        \"action\": mt5.TRADE_ACTION_DEAL,\n",
    "        \"symbol\": symbol,\n",
    "        \"volume\": lot,\n",
    "        \"type\": mt5.ORDER_TYPE_BUY,\n",
    "        \"price\": price,\n",
    "        \"sl\": price - 100,  # Stop Loss (ajustar de acordo com sua estratégia)\n",
    "        \"tp\": price + 100,  # Take Profit (ajustar de acordo com sua estratégia)\n",
    "        \"deviation\": 10,\n",
    "        \"magic\": 123456,\n",
    "        \"comment\": \"Buy order by ML model\",\n",
    "        \"type_time\": mt5.ORDER_TIME_GTC,\n",
    "        \"type_filling\": mt5.ORDER_FILLING_IOC,\n",
    "    }\n",
    "    result = mt5.order_send(request)\n",
    "    if result.retcode == mt5.TRADE_RETCODE_DONE:\n",
    "        print(\"Compra realizada com sucesso!\")\n",
    "    else:\n",
    "        print(f\"Erro ao executar compra: {result.retcode}\")\n",
    "\n",
    "# Função para enviar ordens de venda\n",
    "def sell_order():\n",
    "    lot = 1.0  # Tamanho do lote\n",
    "    price = mt5.symbol_info_tick(symbol).bid  # Preço de venda\n",
    "    request = {\n",
    "        \"action\": mt5.TRADE_ACTION_DEAL,\n",
    "        \"symbol\": symbol,\n",
    "        \"volume\": lot,\n",
    "        \"type\": mt5.ORDER_TYPE_SELL,\n",
    "        \"price\": price,\n",
    "        \"sl\": price + 100,  # Stop Loss (ajustar de acordo com sua estratégia)\n",
    "        \"tp\": price - 100,  # Take Profit (ajustar de acordo com sua estratégia)\n",
    "        \"deviation\": 10,\n",
    "        \"magic\": 123456,\n",
    "        \"comment\": \"Sell order by ML model\",\n",
    "        \"type_time\": mt5.ORDER_TIME_GTC,\n",
    "        \"type_filling\": mt5.ORDER_FILLING_IOC,\n",
    "    }\n",
    "    result = mt5.order_send(request)\n",
    "    if result.retcode == mt5.TRADE_RETCODE_DONE:\n",
    "        print(\"Venda realizada com sucesso!\")\n",
    "    else:\n",
    "        print(f\"Erro ao executar venda: {result.retcode}\")\n"
   ]
  },
  {
   "cell_type": "code",
   "execution_count": null,
   "id": "884cd669-9ea2-447e-bf11-34d7ba033e94",
   "metadata": {},
   "outputs": [],
   "source": [
    "import time\n",
    "# Obter dados ao vivo de 1 minuto\n",
    "while True:\n",
    "    rates = mt5.copy_rates_from_pos(symbol, timeframe, 0, num_bars)\n",
    "    if rates is None:\n",
    "        print(f\"Error: {mt5.last_error()}\")\n",
    "        mt5.shutdown()\n",
    "        exit()\n",
    "    \n",
    "    # Convertendo os dados para um DataFrame para facilitar\n",
    "    data = pd.DataFrame(rates)\n",
    "    \n",
    "    # Adicionando indicadores técnicos ao DataFrame\n",
    "    data['RSI'] = ta.rsi(data['close'], length=5)\n",
    "    data['EMAF'] = ta.ema(data['close'], length=10)\n",
    "    data['EMAM'] = ta.ema(data['close'], length=40)\n",
    "    data['EMAS'] = ta.ema(data['close'], length=80)\n",
    "    \n",
    "    # Criando o 'Target' (diferença entre fechamento e abertura)\n",
    "    data['Target'] = data['close'] - data['open']\n",
    "    \n",
    "    # Deslocando a coluna 'Target' para o próximo candle\n",
    "    data['Target'] = data['Target'].shift(-1)\n",
    "    \n",
    "    # Criando a 'TargetClass' (1 para alta, 0 para queda)\n",
    "    data['TargetClass'] = [1 if data['Target'][i] > 0 else 0 for i in range(len(data))]\n",
    "    \n",
    "    # Coluna 'TargetNextClose' que contém o valor de fechamento do próximo candle\n",
    "    data['TargetNextClose'] = data['close'].shift(-1)\n",
    "    \n",
    "    # Removendo valores nulos\n",
    "    data.dropna(inplace=True)\n",
    "    \n",
    "    # Resetando o índice após a remoção de linhas\n",
    "    data.reset_index(drop=True, inplace=True)\n",
    "    \n",
    "    # Removendo colunas desnecessárias\n",
    "    data.drop(['time', 'spread', 'tick_volume', 'real_volume'], axis=1, inplace=True)\n",
    "    \n",
    "    # Normalizar apenas as colunas de entrada (open, high, low, close, RSI, EMAF, EMAM, EMAS)\n",
    "    sc = MinMaxScaler(feature_range=(0, 1))\n",
    "    data_scaled = sc.fit_transform(data[['open', 'high', 'low', 'close', 'RSI', 'EMAF', 'EMAM', 'EMAS']])\n",
    "    \n",
    "    # Criar as features (X) para os novos dados ao vivo\n",
    "    backcandles = 5  # Mesmo número de candles usado no treino\n",
    "    X_live = []\n",
    "    for j in range(data_scaled.shape[1]):  # Para todas as colunas normalizadas (open até EMAS)\n",
    "        X_live.append([])\n",
    "        for i in range(backcandles, data_scaled.shape[0]):\n",
    "            X_live[j].append(data_scaled[i-backcandles:i, j])\n",
    "    \n",
    "    X_live = np.moveaxis(X_live, [0], [2])\n",
    "    X_live = np.array(X_live)\n",
    "    \n",
    "    # Carregar o modelo treinado\n",
    "    model, ref_cols, target = joblib.load(\"modelWDO2024_past01.pkl\")\n",
    "    \n",
    "    # Fazer previsões com os dados ao vivo\n",
    "    predictions = model.predict(X_live)\n",
    "    \n",
    "    # Desnormalizar as previsões (considerando que o target é o preço do fechamento)\n",
    "    sc_target = MinMaxScaler(feature_range=(0, 1))\n",
    "    sc_target.fit(data[['TargetNextClose']])  # Usar o escalador treinado nos valores de fechamento\n",
    "    predictions_descaled = sc_target.inverse_transform(predictions)\n",
    "\n",
    "        # Prever a próxima ação do mercado\n",
    "    predictions = model.predict(X_live)  # Use o modelo que você treinou\n",
    "    next_prediction = predictions[-1]\n",
    "\n",
    "    # Decidir se compra ou vende\n",
    "    if next_prediction > 0.5:  # Se o modelo prever alta, executa compra\n",
    "        print(\"Modelo prevê alta, comprando...\")\n",
    "        buy_order()\n",
    "    elif next_prediction <= 0.5:  # Se o modelo prever queda, executa venda\n",
    "        print(\"Modelo prevê queda, vendendo...\")\n",
    "        sell_order()\n",
    "\n",
    "    # Aguardar um tempo antes de fazer a próxima previsão (por exemplo, a cada minuto)\n",
    "    time.sleep(60)"
   ]
  },
  {
   "cell_type": "code",
   "execution_count": 38,
   "id": "6f9522a0-308e-41a0-a55b-ed18e7fc20d0",
   "metadata": {
    "scrolled": true
   },
   "outputs": [
    {
     "name": "stdout",
     "output_type": "stream",
     "text": [
      "\u001b[1m11/11\u001b[0m \u001b[32m━━━━━━━━━━━━━━━━━━━━\u001b[0m\u001b[37m\u001b[0m \u001b[1m0s\u001b[0m 23ms/step\n",
      "Previsão desnormalizada do modelo (próximo fechamento): 133815.203125\n"
     ]
    },
    {
     "data": {
      "text/plain": [
       "True"
      ]
     },
     "execution_count": 38,
     "metadata": {},
     "output_type": "execute_result"
    }
   ],
   "source": [
    "# Fechar a conexão com o MetaTrader 5\n",
    "mt5.shutdown()\n"
   ]
  },
  {
   "cell_type": "code",
   "execution_count": 2,
   "id": "13706773-274a-4894-8a3f-dbb8c01b72ac",
   "metadata": {},
   "outputs": [
    {
     "name": "stdout",
     "output_type": "stream",
     "text": [
      "\u001b[1m13/13\u001b[0m \u001b[32m━━━━━━━━━━━━━━━━━━━━\u001b[0m\u001b[37m\u001b[0m \u001b[1m1s\u001b[0m 17ms/step\n",
      "Previsão atual: 0.3766, Target Next Close atual: 5666.5000, Preço atual: 5666.5\n",
      "Sinal de COMPRA detectado - Target: 5666.5000\n",
      "Compra realizada com sucesso! Preço: 5666.5\n"
     ]
    },
    {
     "name": "stderr",
     "output_type": "stream",
     "text": [
      "C:\\Users\\Bhakt\\AppData\\Local\\Temp\\ipykernel_7752\\2431307759.py:122: DeprecationWarning: Conversion of an array with ndim > 0 to a scalar is deprecated, and will error in future. Ensure you extract a single element from your array before performing this operation. (Deprecated NumPy 1.25.)\n",
      "  current_prediction = float(predictions[-1])\n"
     ]
    },
    {
     "name": "stdout",
     "output_type": "stream",
     "text": [
      "\u001b[1m13/13\u001b[0m \u001b[32m━━━━━━━━━━━━━━━━━━━━\u001b[0m\u001b[37m\u001b[0m \u001b[1m0s\u001b[0m 17ms/step\n",
      "Previsão atual: 0.3704, Target Next Close atual: 5668.0000, Preço atual: 5668.0\n"
     ]
    },
    {
     "name": "stderr",
     "output_type": "stream",
     "text": [
      "C:\\Users\\Bhakt\\AppData\\Local\\Temp\\ipykernel_7752\\2431307759.py:122: DeprecationWarning: Conversion of an array with ndim > 0 to a scalar is deprecated, and will error in future. Ensure you extract a single element from your array before performing this operation. (Deprecated NumPy 1.25.)\n",
      "  current_prediction = float(predictions[-1])\n"
     ]
    },
    {
     "name": "stdout",
     "output_type": "stream",
     "text": [
      "\u001b[1m13/13\u001b[0m \u001b[32m━━━━━━━━━━━━━━━━━━━━\u001b[0m\u001b[37m\u001b[0m \u001b[1m0s\u001b[0m 16ms/step\n",
      "Previsão atual: 0.3723, Target Next Close atual: 5667.0000, Preço atual: 5667.0\n"
     ]
    },
    {
     "name": "stderr",
     "output_type": "stream",
     "text": [
      "C:\\Users\\Bhakt\\AppData\\Local\\Temp\\ipykernel_7752\\2431307759.py:122: DeprecationWarning: Conversion of an array with ndim > 0 to a scalar is deprecated, and will error in future. Ensure you extract a single element from your array before performing this operation. (Deprecated NumPy 1.25.)\n",
      "  current_prediction = float(predictions[-1])\n"
     ]
    },
    {
     "name": "stdout",
     "output_type": "stream",
     "text": [
      "\u001b[1m13/13\u001b[0m \u001b[32m━━━━━━━━━━━━━━━━━━━━\u001b[0m\u001b[37m\u001b[0m \u001b[1m0s\u001b[0m 16ms/step\n",
      "Previsão atual: 0.3848, Target Next Close atual: 5667.5000, Preço atual: 5667.0\n"
     ]
    },
    {
     "name": "stderr",
     "output_type": "stream",
     "text": [
      "C:\\Users\\Bhakt\\AppData\\Local\\Temp\\ipykernel_7752\\2431307759.py:122: DeprecationWarning: Conversion of an array with ndim > 0 to a scalar is deprecated, and will error in future. Ensure you extract a single element from your array before performing this operation. (Deprecated NumPy 1.25.)\n",
      "  current_prediction = float(predictions[-1])\n"
     ]
    },
    {
     "name": "stdout",
     "output_type": "stream",
     "text": [
      "\u001b[1m13/13\u001b[0m \u001b[32m━━━━━━━━━━━━━━━━━━━━\u001b[0m\u001b[37m\u001b[0m \u001b[1m0s\u001b[0m 16ms/step\n",
      "Previsão atual: 0.3937, Target Next Close atual: 5669.0000, Preço atual: 5669.5\n"
     ]
    },
    {
     "name": "stderr",
     "output_type": "stream",
     "text": [
      "C:\\Users\\Bhakt\\AppData\\Local\\Temp\\ipykernel_7752\\2431307759.py:122: DeprecationWarning: Conversion of an array with ndim > 0 to a scalar is deprecated, and will error in future. Ensure you extract a single element from your array before performing this operation. (Deprecated NumPy 1.25.)\n",
      "  current_prediction = float(predictions[-1])\n"
     ]
    },
    {
     "name": "stdout",
     "output_type": "stream",
     "text": [
      "\u001b[1m13/13\u001b[0m \u001b[32m━━━━━━━━━━━━━━━━━━━━\u001b[0m\u001b[37m\u001b[0m \u001b[1m0s\u001b[0m 16ms/step\n",
      "Previsão atual: 0.3989, Target Next Close atual: 5668.5000, Preço atual: 5669.0\n"
     ]
    },
    {
     "name": "stderr",
     "output_type": "stream",
     "text": [
      "C:\\Users\\Bhakt\\AppData\\Local\\Temp\\ipykernel_7752\\2431307759.py:122: DeprecationWarning: Conversion of an array with ndim > 0 to a scalar is deprecated, and will error in future. Ensure you extract a single element from your array before performing this operation. (Deprecated NumPy 1.25.)\n",
      "  current_prediction = float(predictions[-1])\n"
     ]
    },
    {
     "name": "stdout",
     "output_type": "stream",
     "text": [
      "\u001b[1m13/13\u001b[0m \u001b[32m━━━━━━━━━━━━━━━━━━━━\u001b[0m\u001b[37m\u001b[0m \u001b[1m0s\u001b[0m 15ms/step\n",
      "Previsão atual: 0.4137, Target Next Close atual: 5667.5000, Preço atual: 5667.0\n"
     ]
    },
    {
     "name": "stderr",
     "output_type": "stream",
     "text": [
      "C:\\Users\\Bhakt\\AppData\\Local\\Temp\\ipykernel_7752\\2431307759.py:122: DeprecationWarning: Conversion of an array with ndim > 0 to a scalar is deprecated, and will error in future. Ensure you extract a single element from your array before performing this operation. (Deprecated NumPy 1.25.)\n",
      "  current_prediction = float(predictions[-1])\n"
     ]
    },
    {
     "name": "stdout",
     "output_type": "stream",
     "text": [
      "\u001b[1m13/13\u001b[0m \u001b[32m━━━━━━━━━━━━━━━━━━━━\u001b[0m\u001b[37m\u001b[0m \u001b[1m1s\u001b[0m 28ms/step\n",
      "Previsão atual: 0.4254, Target Next Close atual: 5668.0000, Preço atual: 5668.0\n"
     ]
    },
    {
     "name": "stderr",
     "output_type": "stream",
     "text": [
      "C:\\Users\\Bhakt\\AppData\\Local\\Temp\\ipykernel_7752\\2431307759.py:122: DeprecationWarning: Conversion of an array with ndim > 0 to a scalar is deprecated, and will error in future. Ensure you extract a single element from your array before performing this operation. (Deprecated NumPy 1.25.)\n",
      "  current_prediction = float(predictions[-1])\n"
     ]
    },
    {
     "name": "stdout",
     "output_type": "stream",
     "text": [
      "\u001b[1m13/13\u001b[0m \u001b[32m━━━━━━━━━━━━━━━━━━━━\u001b[0m\u001b[37m\u001b[0m \u001b[1m0s\u001b[0m 15ms/step\n",
      "Previsão atual: 0.4342, Target Next Close atual: 5669.0000, Preço atual: 5669.0\n"
     ]
    },
    {
     "name": "stderr",
     "output_type": "stream",
     "text": [
      "C:\\Users\\Bhakt\\AppData\\Local\\Temp\\ipykernel_7752\\2431307759.py:122: DeprecationWarning: Conversion of an array with ndim > 0 to a scalar is deprecated, and will error in future. Ensure you extract a single element from your array before performing this operation. (Deprecated NumPy 1.25.)\n",
      "  current_prediction = float(predictions[-1])\n"
     ]
    },
    {
     "name": "stdout",
     "output_type": "stream",
     "text": [
      "\u001b[1m13/13\u001b[0m \u001b[32m━━━━━━━━━━━━━━━━━━━━\u001b[0m\u001b[37m\u001b[0m \u001b[1m0s\u001b[0m 17ms/step\n",
      "Previsão atual: 0.4390, Target Next Close atual: 5669.5000, Preço atual: 5669.0\n"
     ]
    },
    {
     "name": "stderr",
     "output_type": "stream",
     "text": [
      "C:\\Users\\Bhakt\\AppData\\Local\\Temp\\ipykernel_7752\\2431307759.py:122: DeprecationWarning: Conversion of an array with ndim > 0 to a scalar is deprecated, and will error in future. Ensure you extract a single element from your array before performing this operation. (Deprecated NumPy 1.25.)\n",
      "  current_prediction = float(predictions[-1])\n"
     ]
    },
    {
     "name": "stdout",
     "output_type": "stream",
     "text": [
      "\u001b[1m13/13\u001b[0m \u001b[32m━━━━━━━━━━━━━━━━━━━━\u001b[0m\u001b[37m\u001b[0m \u001b[1m0s\u001b[0m 16ms/step\n",
      "Previsão atual: 0.4464, Target Next Close atual: 5667.0000, Preço atual: 5667.5\n"
     ]
    },
    {
     "name": "stderr",
     "output_type": "stream",
     "text": [
      "C:\\Users\\Bhakt\\AppData\\Local\\Temp\\ipykernel_7752\\2431307759.py:122: DeprecationWarning: Conversion of an array with ndim > 0 to a scalar is deprecated, and will error in future. Ensure you extract a single element from your array before performing this operation. (Deprecated NumPy 1.25.)\n",
      "  current_prediction = float(predictions[-1])\n"
     ]
    },
    {
     "name": "stdout",
     "output_type": "stream",
     "text": [
      "\u001b[1m13/13\u001b[0m \u001b[32m━━━━━━━━━━━━━━━━━━━━\u001b[0m\u001b[37m\u001b[0m \u001b[1m0s\u001b[0m 17ms/step\n",
      "Previsão atual: 0.4551, Target Next Close atual: 5671.0000, Preço atual: 5670.5\n"
     ]
    },
    {
     "name": "stderr",
     "output_type": "stream",
     "text": [
      "C:\\Users\\Bhakt\\AppData\\Local\\Temp\\ipykernel_7752\\2431307759.py:122: DeprecationWarning: Conversion of an array with ndim > 0 to a scalar is deprecated, and will error in future. Ensure you extract a single element from your array before performing this operation. (Deprecated NumPy 1.25.)\n",
      "  current_prediction = float(predictions[-1])\n"
     ]
    },
    {
     "name": "stdout",
     "output_type": "stream",
     "text": [
      "\u001b[1m13/13\u001b[0m \u001b[32m━━━━━━━━━━━━━━━━━━━━\u001b[0m\u001b[37m\u001b[0m \u001b[1m0s\u001b[0m 16ms/step\n",
      "Previsão atual: 0.4479, Target Next Close atual: 5673.0000, Preço atual: 5673.5\n"
     ]
    },
    {
     "name": "stderr",
     "output_type": "stream",
     "text": [
      "C:\\Users\\Bhakt\\AppData\\Local\\Temp\\ipykernel_7752\\2431307759.py:122: DeprecationWarning: Conversion of an array with ndim > 0 to a scalar is deprecated, and will error in future. Ensure you extract a single element from your array before performing this operation. (Deprecated NumPy 1.25.)\n",
      "  current_prediction = float(predictions[-1])\n"
     ]
    },
    {
     "name": "stdout",
     "output_type": "stream",
     "text": [
      "\u001b[1m13/13\u001b[0m \u001b[32m━━━━━━━━━━━━━━━━━━━━\u001b[0m\u001b[37m\u001b[0m \u001b[1m0s\u001b[0m 17ms/step\n",
      "Previsão atual: 0.4846, Target Next Close atual: 5673.5000, Preço atual: 5674.0\n"
     ]
    },
    {
     "name": "stderr",
     "output_type": "stream",
     "text": [
      "C:\\Users\\Bhakt\\AppData\\Local\\Temp\\ipykernel_7752\\2431307759.py:122: DeprecationWarning: Conversion of an array with ndim > 0 to a scalar is deprecated, and will error in future. Ensure you extract a single element from your array before performing this operation. (Deprecated NumPy 1.25.)\n",
      "  current_prediction = float(predictions[-1])\n"
     ]
    },
    {
     "name": "stdout",
     "output_type": "stream",
     "text": [
      "\u001b[1m13/13\u001b[0m \u001b[32m━━━━━━━━━━━━━━━━━━━━\u001b[0m\u001b[37m\u001b[0m \u001b[1m0s\u001b[0m 16ms/step\n",
      "Previsão atual: 0.5006, Target Next Close atual: 5674.5000, Preço atual: 5675.0\n"
     ]
    },
    {
     "name": "stderr",
     "output_type": "stream",
     "text": [
      "C:\\Users\\Bhakt\\AppData\\Local\\Temp\\ipykernel_7752\\2431307759.py:122: DeprecationWarning: Conversion of an array with ndim > 0 to a scalar is deprecated, and will error in future. Ensure you extract a single element from your array before performing this operation. (Deprecated NumPy 1.25.)\n",
      "  current_prediction = float(predictions[-1])\n"
     ]
    },
    {
     "name": "stdout",
     "output_type": "stream",
     "text": [
      "\u001b[1m13/13\u001b[0m \u001b[32m━━━━━━━━━━━━━━━━━━━━\u001b[0m\u001b[37m\u001b[0m \u001b[1m0s\u001b[0m 16ms/step\n",
      "Previsão atual: 0.5198, Target Next Close atual: 5676.0000, Preço atual: 5675.5\n"
     ]
    },
    {
     "name": "stderr",
     "output_type": "stream",
     "text": [
      "C:\\Users\\Bhakt\\AppData\\Local\\Temp\\ipykernel_7752\\2431307759.py:122: DeprecationWarning: Conversion of an array with ndim > 0 to a scalar is deprecated, and will error in future. Ensure you extract a single element from your array before performing this operation. (Deprecated NumPy 1.25.)\n",
      "  current_prediction = float(predictions[-1])\n"
     ]
    },
    {
     "name": "stdout",
     "output_type": "stream",
     "text": [
      "\u001b[1m13/13\u001b[0m \u001b[32m━━━━━━━━━━━━━━━━━━━━\u001b[0m\u001b[37m\u001b[0m \u001b[1m0s\u001b[0m 15ms/step\n",
      "Previsão atual: 0.5457, Target Next Close atual: 5676.5000, Preço atual: 5676.5\n"
     ]
    },
    {
     "name": "stderr",
     "output_type": "stream",
     "text": [
      "C:\\Users\\Bhakt\\AppData\\Local\\Temp\\ipykernel_7752\\2431307759.py:122: DeprecationWarning: Conversion of an array with ndim > 0 to a scalar is deprecated, and will error in future. Ensure you extract a single element from your array before performing this operation. (Deprecated NumPy 1.25.)\n",
      "  current_prediction = float(predictions[-1])\n"
     ]
    },
    {
     "name": "stdout",
     "output_type": "stream",
     "text": [
      "\u001b[1m13/13\u001b[0m \u001b[32m━━━━━━━━━━━━━━━━━━━━\u001b[0m\u001b[37m\u001b[0m \u001b[1m0s\u001b[0m 15ms/step\n",
      "Previsão atual: 0.5776, Target Next Close atual: 5676.0000, Preço atual: 5676.0\n"
     ]
    },
    {
     "name": "stderr",
     "output_type": "stream",
     "text": [
      "C:\\Users\\Bhakt\\AppData\\Local\\Temp\\ipykernel_7752\\2431307759.py:122: DeprecationWarning: Conversion of an array with ndim > 0 to a scalar is deprecated, and will error in future. Ensure you extract a single element from your array before performing this operation. (Deprecated NumPy 1.25.)\n",
      "  current_prediction = float(predictions[-1])\n"
     ]
    },
    {
     "name": "stdout",
     "output_type": "stream",
     "text": [
      "\u001b[1m13/13\u001b[0m \u001b[32m━━━━━━━━━━━━━━━━━━━━\u001b[0m\u001b[37m\u001b[0m \u001b[1m1s\u001b[0m 32ms/step\n",
      "Previsão atual: 0.5900, Target Next Close atual: 5678.5000, Preço atual: 5678.5\n"
     ]
    },
    {
     "name": "stderr",
     "output_type": "stream",
     "text": [
      "C:\\Users\\Bhakt\\AppData\\Local\\Temp\\ipykernel_7752\\2431307759.py:122: DeprecationWarning: Conversion of an array with ndim > 0 to a scalar is deprecated, and will error in future. Ensure you extract a single element from your array before performing this operation. (Deprecated NumPy 1.25.)\n",
      "  current_prediction = float(predictions[-1])\n"
     ]
    },
    {
     "name": "stdout",
     "output_type": "stream",
     "text": [
      "\u001b[1m13/13\u001b[0m \u001b[32m━━━━━━━━━━━━━━━━━━━━\u001b[0m\u001b[37m\u001b[0m \u001b[1m0s\u001b[0m 16ms/step\n",
      "Previsão atual: 0.6081, Target Next Close atual: 5676.5000, Preço atual: 5676.5\n"
     ]
    },
    {
     "name": "stderr",
     "output_type": "stream",
     "text": [
      "C:\\Users\\Bhakt\\AppData\\Local\\Temp\\ipykernel_7752\\2431307759.py:122: DeprecationWarning: Conversion of an array with ndim > 0 to a scalar is deprecated, and will error in future. Ensure you extract a single element from your array before performing this operation. (Deprecated NumPy 1.25.)\n",
      "  current_prediction = float(predictions[-1])\n"
     ]
    },
    {
     "name": "stdout",
     "output_type": "stream",
     "text": [
      "\u001b[1m13/13\u001b[0m \u001b[32m━━━━━━━━━━━━━━━━━━━━\u001b[0m\u001b[37m\u001b[0m \u001b[1m0s\u001b[0m 15ms/step\n",
      "Previsão atual: 0.6111, Target Next Close atual: 5677.5000, Preço atual: 5677.5\n"
     ]
    },
    {
     "name": "stderr",
     "output_type": "stream",
     "text": [
      "C:\\Users\\Bhakt\\AppData\\Local\\Temp\\ipykernel_7752\\2431307759.py:122: DeprecationWarning: Conversion of an array with ndim > 0 to a scalar is deprecated, and will error in future. Ensure you extract a single element from your array before performing this operation. (Deprecated NumPy 1.25.)\n",
      "  current_prediction = float(predictions[-1])\n"
     ]
    },
    {
     "name": "stdout",
     "output_type": "stream",
     "text": [
      "\u001b[1m13/13\u001b[0m \u001b[32m━━━━━━━━━━━━━━━━━━━━\u001b[0m\u001b[37m\u001b[0m \u001b[1m0s\u001b[0m 15ms/step\n",
      "Previsão atual: 0.6206, Target Next Close atual: 5679.5000, Preço atual: 5679.5\n"
     ]
    },
    {
     "name": "stderr",
     "output_type": "stream",
     "text": [
      "C:\\Users\\Bhakt\\AppData\\Local\\Temp\\ipykernel_7752\\2431307759.py:122: DeprecationWarning: Conversion of an array with ndim > 0 to a scalar is deprecated, and will error in future. Ensure you extract a single element from your array before performing this operation. (Deprecated NumPy 1.25.)\n",
      "  current_prediction = float(predictions[-1])\n"
     ]
    },
    {
     "name": "stdout",
     "output_type": "stream",
     "text": [
      "\u001b[1m13/13\u001b[0m \u001b[32m━━━━━━━━━━━━━━━━━━━━\u001b[0m\u001b[37m\u001b[0m \u001b[1m0s\u001b[0m 16ms/step\n",
      "Previsão atual: 0.6341, Target Next Close atual: 5678.5000, Preço atual: 5678.5\n"
     ]
    },
    {
     "name": "stderr",
     "output_type": "stream",
     "text": [
      "C:\\Users\\Bhakt\\AppData\\Local\\Temp\\ipykernel_7752\\2431307759.py:122: DeprecationWarning: Conversion of an array with ndim > 0 to a scalar is deprecated, and will error in future. Ensure you extract a single element from your array before performing this operation. (Deprecated NumPy 1.25.)\n",
      "  current_prediction = float(predictions[-1])\n"
     ]
    },
    {
     "name": "stdout",
     "output_type": "stream",
     "text": [
      "\u001b[1m13/13\u001b[0m \u001b[32m━━━━━━━━━━━━━━━━━━━━\u001b[0m\u001b[37m\u001b[0m \u001b[1m0s\u001b[0m 15ms/step\n",
      "Previsão atual: 0.6482, Target Next Close atual: 5678.5000, Preço atual: 5679.0\n"
     ]
    },
    {
     "name": "stderr",
     "output_type": "stream",
     "text": [
      "C:\\Users\\Bhakt\\AppData\\Local\\Temp\\ipykernel_7752\\2431307759.py:122: DeprecationWarning: Conversion of an array with ndim > 0 to a scalar is deprecated, and will error in future. Ensure you extract a single element from your array before performing this operation. (Deprecated NumPy 1.25.)\n",
      "  current_prediction = float(predictions[-1])\n"
     ]
    },
    {
     "name": "stdout",
     "output_type": "stream",
     "text": [
      "\u001b[1m13/13\u001b[0m \u001b[32m━━━━━━━━━━━━━━━━━━━━\u001b[0m\u001b[37m\u001b[0m \u001b[1m0s\u001b[0m 15ms/step\n",
      "Previsão atual: 0.6599, Target Next Close atual: 5678.0000, Preço atual: 5678.0\n"
     ]
    },
    {
     "name": "stderr",
     "output_type": "stream",
     "text": [
      "C:\\Users\\Bhakt\\AppData\\Local\\Temp\\ipykernel_7752\\2431307759.py:122: DeprecationWarning: Conversion of an array with ndim > 0 to a scalar is deprecated, and will error in future. Ensure you extract a single element from your array before performing this operation. (Deprecated NumPy 1.25.)\n",
      "  current_prediction = float(predictions[-1])\n"
     ]
    },
    {
     "name": "stdout",
     "output_type": "stream",
     "text": [
      "\u001b[1m13/13\u001b[0m \u001b[32m━━━━━━━━━━━━━━━━━━━━\u001b[0m\u001b[37m\u001b[0m \u001b[1m0s\u001b[0m 15ms/step\n",
      "Previsão atual: 0.6620, Target Next Close atual: 5677.5000, Preço atual: 5677.5\n"
     ]
    },
    {
     "name": "stderr",
     "output_type": "stream",
     "text": [
      "C:\\Users\\Bhakt\\AppData\\Local\\Temp\\ipykernel_7752\\2431307759.py:122: DeprecationWarning: Conversion of an array with ndim > 0 to a scalar is deprecated, and will error in future. Ensure you extract a single element from your array before performing this operation. (Deprecated NumPy 1.25.)\n",
      "  current_prediction = float(predictions[-1])\n"
     ]
    },
    {
     "name": "stdout",
     "output_type": "stream",
     "text": [
      "\u001b[1m13/13\u001b[0m \u001b[32m━━━━━━━━━━━━━━━━━━━━\u001b[0m\u001b[37m\u001b[0m \u001b[1m0s\u001b[0m 15ms/step\n",
      "Previsão atual: 0.6643, Target Next Close atual: 5674.5000, Preço atual: 5674.5\n"
     ]
    },
    {
     "name": "stderr",
     "output_type": "stream",
     "text": [
      "C:\\Users\\Bhakt\\AppData\\Local\\Temp\\ipykernel_7752\\2431307759.py:122: DeprecationWarning: Conversion of an array with ndim > 0 to a scalar is deprecated, and will error in future. Ensure you extract a single element from your array before performing this operation. (Deprecated NumPy 1.25.)\n",
      "  current_prediction = float(predictions[-1])\n"
     ]
    },
    {
     "name": "stdout",
     "output_type": "stream",
     "text": [
      "\u001b[1m13/13\u001b[0m \u001b[32m━━━━━━━━━━━━━━━━━━━━\u001b[0m\u001b[37m\u001b[0m \u001b[1m0s\u001b[0m 15ms/step\n",
      "Previsão atual: 0.6565, Target Next Close atual: 5674.0000, Preço atual: 5673.5\n"
     ]
    },
    {
     "name": "stderr",
     "output_type": "stream",
     "text": [
      "C:\\Users\\Bhakt\\AppData\\Local\\Temp\\ipykernel_7752\\2431307759.py:122: DeprecationWarning: Conversion of an array with ndim > 0 to a scalar is deprecated, and will error in future. Ensure you extract a single element from your array before performing this operation. (Deprecated NumPy 1.25.)\n",
      "  current_prediction = float(predictions[-1])\n"
     ]
    },
    {
     "name": "stdout",
     "output_type": "stream",
     "text": [
      "\u001b[1m13/13\u001b[0m \u001b[32m━━━━━━━━━━━━━━━━━━━━\u001b[0m\u001b[37m\u001b[0m \u001b[1m0s\u001b[0m 17ms/step\n",
      "Previsão atual: 0.6415, Target Next Close atual: 5673.0000, Preço atual: 5673.0\n"
     ]
    },
    {
     "name": "stderr",
     "output_type": "stream",
     "text": [
      "C:\\Users\\Bhakt\\AppData\\Local\\Temp\\ipykernel_7752\\2431307759.py:122: DeprecationWarning: Conversion of an array with ndim > 0 to a scalar is deprecated, and will error in future. Ensure you extract a single element from your array before performing this operation. (Deprecated NumPy 1.25.)\n",
      "  current_prediction = float(predictions[-1])\n"
     ]
    },
    {
     "name": "stdout",
     "output_type": "stream",
     "text": [
      "\u001b[1m13/13\u001b[0m \u001b[32m━━━━━━━━━━━━━━━━━━━━\u001b[0m\u001b[37m\u001b[0m \u001b[1m1s\u001b[0m 15ms/step\n",
      "Previsão atual: 0.6263, Target Next Close atual: 5674.0000, Preço atual: 5674.5\n"
     ]
    },
    {
     "name": "stderr",
     "output_type": "stream",
     "text": [
      "C:\\Users\\Bhakt\\AppData\\Local\\Temp\\ipykernel_7752\\2431307759.py:122: DeprecationWarning: Conversion of an array with ndim > 0 to a scalar is deprecated, and will error in future. Ensure you extract a single element from your array before performing this operation. (Deprecated NumPy 1.25.)\n",
      "  current_prediction = float(predictions[-1])\n"
     ]
    },
    {
     "name": "stdout",
     "output_type": "stream",
     "text": [
      "\u001b[1m13/13\u001b[0m \u001b[32m━━━━━━━━━━━━━━━━━━━━\u001b[0m\u001b[37m\u001b[0m \u001b[1m0s\u001b[0m 15ms/step\n",
      "Previsão atual: 0.6203, Target Next Close atual: 5671.5000, Preço atual: 5671.0\n"
     ]
    },
    {
     "name": "stderr",
     "output_type": "stream",
     "text": [
      "C:\\Users\\Bhakt\\AppData\\Local\\Temp\\ipykernel_7752\\2431307759.py:122: DeprecationWarning: Conversion of an array with ndim > 0 to a scalar is deprecated, and will error in future. Ensure you extract a single element from your array before performing this operation. (Deprecated NumPy 1.25.)\n",
      "  current_prediction = float(predictions[-1])\n"
     ]
    },
    {
     "ename": "KeyboardInterrupt",
     "evalue": "",
     "output_type": "error",
     "traceback": [
      "\u001b[1;31m---------------------------------------------------------------------------\u001b[0m",
      "\u001b[1;31mKeyboardInterrupt\u001b[0m                         Traceback (most recent call last)",
      "Cell \u001b[1;32mIn[2], line 143\u001b[0m\n\u001b[0;32m    140\u001b[0m         \u001b[38;5;28mprint\u001b[39m(\u001b[38;5;124mf\u001b[39m\u001b[38;5;124m\"\u001b[39m\u001b[38;5;124mAguardando sinal mais claro do mercado... Target atual: \u001b[39m\u001b[38;5;132;01m{\u001b[39;00mcurrent_target\u001b[38;5;132;01m:\u001b[39;00m\u001b[38;5;124m.4f\u001b[39m\u001b[38;5;132;01m}\u001b[39;00m\u001b[38;5;124m\"\u001b[39m)\n\u001b[0;32m    142\u001b[0m     \u001b[38;5;66;03m# Aguardar antes da próxima iteração\u001b[39;00m\n\u001b[1;32m--> 143\u001b[0m     time\u001b[38;5;241m.\u001b[39msleep(\u001b[38;5;241m60\u001b[39m)\n\u001b[0;32m    145\u001b[0m \u001b[38;5;28;01mexcept\u001b[39;00m \u001b[38;5;167;01mException\u001b[39;00m \u001b[38;5;28;01mas\u001b[39;00m e:\n\u001b[0;32m    146\u001b[0m     \u001b[38;5;28mprint\u001b[39m(\u001b[38;5;124mf\u001b[39m\u001b[38;5;124m\"\u001b[39m\u001b[38;5;124mErro durante a execução: \u001b[39m\u001b[38;5;132;01m{\u001b[39;00m\u001b[38;5;28mstr\u001b[39m(e)\u001b[38;5;132;01m}\u001b[39;00m\u001b[38;5;124m\"\u001b[39m)\n",
      "\u001b[1;31mKeyboardInterrupt\u001b[0m: "
     ]
    }
   ],
   "source": [
    "import MetaTrader5 as mt5\n",
    "import pandas as pd\n",
    "import pandas_ta as ta\n",
    "import joblib\n",
    "import numpy as np\n",
    "from sklearn.preprocessing import MinMaxScaler\n",
    "import time\n",
    "\n",
    "# Inicializar MetaTrader 5\n",
    "if not mt5.initialize():\n",
    "    print(\"Failed to initialize MT5, error code =\", mt5.last_error())\n",
    "    quit()\n",
    "\n",
    "# Definir o símbolo e o intervalo de tempo\n",
    "symbol = \"WDOX24\"\n",
    "timeframe = mt5.TIMEFRAME_M1  # 1 minuto\n",
    "num_bars = 500  # Número de candles para carregar\n",
    "\n",
    "def buy_order():\n",
    "    lot = 1.0\n",
    "    price = mt5.symbol_info_tick(symbol).ask\n",
    "    request = {\n",
    "        \"action\": mt5.TRADE_ACTION_DEAL,\n",
    "        \"symbol\": symbol,\n",
    "        \"volume\": lot,\n",
    "        \"type\": mt5.ORDER_TYPE_BUY,\n",
    "        \"price\": price,\n",
    "        \"sl\": price - 100,\n",
    "        \"tp\": price + 100,\n",
    "        \"deviation\": 10,\n",
    "        \"magic\": 123456,\n",
    "        \"comment\": \"Buy order by ML model\",\n",
    "        \"type_time\": mt5.ORDER_TIME_GTC,\n",
    "        \"type_filling\": mt5.ORDER_FILLING_IOC,\n",
    "    }\n",
    "    result = mt5.order_send(request)\n",
    "    if result.retcode == mt5.TRADE_RETCODE_DONE:\n",
    "        print(f\"Compra realizada com sucesso! Preço: {price}\")\n",
    "    else:\n",
    "        print(f\"Erro ao executar compra: {result.retcode}\")\n",
    "\n",
    "def sell_order():\n",
    "    lot = 1.0\n",
    "    price = mt5.symbol_info_tick(symbol).bid\n",
    "    request = {\n",
    "        \"action\": mt5.TRADE_ACTION_DEAL,\n",
    "        \"symbol\": symbol,\n",
    "        \"volume\": lot,\n",
    "        \"type\": mt5.ORDER_TYPE_SELL,\n",
    "        \"price\": price,\n",
    "        \"sl\": price + 100,\n",
    "        \"tp\": price - 100,\n",
    "        \"deviation\": 10,\n",
    "        \"magic\": 123456,\n",
    "        \"comment\": \"Sell order by ML model\",\n",
    "        \"type_time\": mt5.ORDER_TIME_GTC,\n",
    "        \"type_filling\": mt5.ORDER_FILLING_IOC,\n",
    "    }\n",
    "    result = mt5.order_send(request)\n",
    "    if result.retcode == mt5.TRADE_RETCODE_DONE:\n",
    "        print(f\"Venda realizada com sucesso! Preço: {price}\")\n",
    "    else:\n",
    "        print(f\"Erro ao executar venda: {result.retcode}\")\n",
    "\n",
    "# Variável para armazenar a última operação\n",
    "last_operation = None\n",
    "\n",
    "# Loop principal\n",
    "while True:\n",
    "    try:\n",
    "        # Obter dados ao vivo\n",
    "        rates = mt5.copy_rates_from_pos(symbol, timeframe, 0, num_bars)\n",
    "        if rates is None:\n",
    "            print(f\"Error: {mt5.last_error()}\")\n",
    "            mt5.shutdown()\n",
    "            exit()\n",
    "        \n",
    "        # Convertendo os dados para DataFrame\n",
    "        data = pd.DataFrame(rates)\n",
    "        \n",
    "        # Adicionando indicadores técnicos\n",
    "        data['RSI'] = ta.rsi(data['close'], length=5)\n",
    "        data['EMAF'] = ta.ema(data['close'], length=10)\n",
    "        data['EMAM'] = ta.ema(data['close'], length=40)\n",
    "        data['EMAS'] = ta.ema(data['close'], length=80)\n",
    "        \n",
    "        # Criando o Target (diferença entre fechamento e abertura)\n",
    "        data['Target'] = data['close'] - data['open']\n",
    "        data['Target'] = data['Target'].shift(-1)\n",
    "        \n",
    "        # Criando a TargetClass (1 para alta, 0 para queda)\n",
    "        data['TargetClass'] = [1 if x > 0 else 0 for x in data['Target']]\n",
    "\n",
    "        # Coluna 'TargetNextClose' que contém o valor de fechamento do próximo candle\n",
    "        data['TargetNextClose'] = data['close'].shift(-1)\n",
    "        \n",
    "        # Limpeza dos dados\n",
    "        data.dropna(inplace=True)\n",
    "        data.reset_index(drop=True, inplace=True)\n",
    "        data.drop(['time', 'spread', 'tick_volume', 'real_volume'], axis=1, inplace=True)\n",
    "        \n",
    "        # Normalização\n",
    "        sc = MinMaxScaler(feature_range=(0, 1))\n",
    "        data_scaled = sc.fit_transform(data[['open', 'high', 'low', 'close', 'RSI', 'EMAF', 'EMAM', 'EMAS']])\n",
    "        \n",
    "        # Preparar dados para previsão\n",
    "        backcandles = 5\n",
    "        X_live = []\n",
    "        for j in range(data_scaled.shape[1]):\n",
    "            X_live.append([])\n",
    "            for i in range(backcandles, data_scaled.shape[0]):\n",
    "                X_live[j].append(data_scaled[i-backcandles:i, j])\n",
    "        \n",
    "        X_live = np.moveaxis(X_live, [0], [2])\n",
    "        X_live = np.array(X_live)\n",
    "        \n",
    "        # Carregar modelo e fazer previsão\n",
    "        model, ref_cols, target = joblib.load(\"modelWDO2024_past01.pkl\")\n",
    "        predictions = model.predict(X_live)\n",
    "        \n",
    "        # Obter última previsão e dados relevantes\n",
    "        current_prediction = float(predictions[-1])\n",
    "        current_price = mt5.symbol_info_tick(symbol).last\n",
    "        current_target = float(data['TargetNextClose'].iloc[-1])\n",
    "        \n",
    "        print(f\"Previsão atual: {current_prediction:.4f}, Target Next Close atual: {current_target:.4f}, Preço atual: {current_price}\")\n",
    "        \n",
    "        # Lógica de trading baseada no Target\n",
    "        if current_target > 0:  # Target positivo indica tendência de alta\n",
    "            if last_operation != \"BUY\":\n",
    "                print(f\"Sinal de COMPRA detectado - Target: {current_target:.4f}\")\n",
    "                buy_order()\n",
    "                last_operation = \"BUY\"\n",
    "        elif current_target < 0:  # Target negativo indica tendência de baixa\n",
    "            if last_operation != \"SELL\":\n",
    "                print(f\"Sinal de VENDA detectado - Target: {current_target:.4f}\")\n",
    "                sell_order()\n",
    "                last_operation = \"SELL\"\n",
    "        else:\n",
    "            print(f\"Aguardando sinal mais claro do mercado... Target atual: {current_target:.4f}\")\n",
    "        \n",
    "        # Aguardar antes da próxima iteração\n",
    "        time.sleep(60)\n",
    "        \n",
    "    except Exception as e:\n",
    "        print(f\"Erro durante a execução: {str(e)}\")\n",
    "        time.sleep(60)\n",
    "        continue"
   ]
  },
  {
   "cell_type": "code",
   "execution_count": null,
   "id": "aa3cf2f2-5e60-420b-86c2-b92a7b3e1db1",
   "metadata": {},
   "outputs": [],
   "source": []
  },
  {
   "cell_type": "code",
   "execution_count": null,
   "id": "1da629d5-0360-4fc5-a4ab-e092e4d097c6",
   "metadata": {},
   "outputs": [],
   "source": []
  }
 ],
 "metadata": {
  "kernelspec": {
   "display_name": "Python 3 (ipykernel)",
   "language": "python",
   "name": "python3"
  },
  "language_info": {
   "codemirror_mode": {
    "name": "ipython",
    "version": 3
   },
   "file_extension": ".py",
   "mimetype": "text/x-python",
   "name": "python",
   "nbconvert_exporter": "python",
   "pygments_lexer": "ipython3",
   "version": "3.12.4"
  }
 },
 "nbformat": 4,
 "nbformat_minor": 5
}
